{
 "cells": [
  {
   "cell_type": "code",
   "execution_count": 4,
   "metadata": {},
   "outputs": [
    {
     "name": "stdout",
     "output_type": "stream",
     "text": [
      "Enter hours: 43\n",
      "Enter hour rate: 250\n",
      "11125.0\n"
     ]
    }
   ],
   "source": [
    "hours = input(\"Enter hours: \")\n",
    "h = float(hours)\n",
    "hrate = input(\"Enter hour rate: \")\n",
    "hr = float(hrate)\n",
    "if h>40:\n",
    "    grspay = h*hr\n",
    "    otp = (h-40) * (hr*0.5)\n",
    "    grosspay = otp + grspay\n",
    "else:\n",
    "    grosspay = h * hr\n",
    "print(grosspay)"
   ]
  },
  {
   "cell_type": "code",
   "execution_count": 8,
   "metadata": {},
   "outputs": [
    {
     "name": "stdout",
     "output_type": "stream",
     "text": [
      "Enter hours:32\n",
      "Enter hour rate: 250\n",
      "8000.0\n"
     ]
    }
   ],
   "source": [
    "#catching exception using try and except\n",
    "hours = input(\"Enter hours:\")\n",
    "try:\n",
    "    h = float(hours)\n",
    "    hrate = input(\"Enter hour rate: \")\n",
    "    hr = float(hrate)\n",
    "    if h > 40:\n",
    "        grspay = h * hr\n",
    "        otp = (h - 40) * (hr*0.5)\n",
    "        grosspay = otp + grspay\n",
    "    else:\n",
    "        grosspay = h * hr\n",
    "    print(grosspay)\n",
    "except:\n",
    "    print(\"Error, Please enter a numeric value\")\n"
   ]
  },
  {
   "cell_type": "code",
   "execution_count": 21,
   "metadata": {},
   "outputs": [
    {
     "name": "stdout",
     "output_type": "stream",
     "text": [
      "Enter a score between 0.0 and 1.0: 3.2\n",
      "Invalid input, Please enter a score according to instructions\n"
     ]
    }
   ],
   "source": [
    "try:\n",
    "    Scr = input(\"Enter a score between 0.0 and 1.0: \")\n",
    "    score = float(Scr)\n",
    "    if(score >= 1.0):\n",
    "        print(\"Invalid input, Please enter a score according to instructions\")\n",
    "    elif(score >= 0.9):\n",
    "        print(\"A\")\n",
    "    elif(score >= 0.8):\n",
    "        print(\"B\")\n",
    "    elif(score >= 0.7):\n",
    "        print(\"C\")\n",
    "    elif(score >= 0.6):\n",
    "        print(\"D\")\n",
    "    else:\n",
    "        print(\"F\")\n",
    "except:\n",
    "    print(\"Error, Please enter a numerical number\")\n",
    "        "
   ]
  },
  {
   "cell_type": "code",
   "execution_count": null,
   "metadata": {},
   "outputs": [],
   "source": []
  }
 ],
 "metadata": {
  "kernelspec": {
   "display_name": "Python 3",
   "language": "python",
   "name": "python3"
  },
  "language_info": {
   "codemirror_mode": {
    "name": "ipython",
    "version": 3
   },
   "file_extension": ".py",
   "mimetype": "text/x-python",
   "name": "python",
   "nbconvert_exporter": "python",
   "pygments_lexer": "ipython3",
   "version": "3.7.4"
  }
 },
 "nbformat": 4,
 "nbformat_minor": 2
}
